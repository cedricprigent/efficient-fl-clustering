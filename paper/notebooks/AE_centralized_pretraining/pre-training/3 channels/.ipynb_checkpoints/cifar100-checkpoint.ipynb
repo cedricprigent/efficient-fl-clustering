{
 "cells": [
  {
   "cell_type": "code",
   "execution_count": 1,
   "id": "d5cea29c-66e3-4519-9d1f-604194f32196",
   "metadata": {},
   "outputs": [],
   "source": [
    "import torch\n",
    "import torch.nn as nn\n",
    "from torch.utils.data import DataLoader\n",
    "import torchvision\n",
    "from torchvision.datasets import CIFAR100\n",
    "from torchvision.transforms import ToTensor"
   ]
  },
  {
   "cell_type": "code",
   "execution_count": 2,
   "id": "c328a7b7-f7fb-46b0-888f-edc4ae172f69",
   "metadata": {},
   "outputs": [],
   "source": [
    "batch_size = 32\n",
    "device = 'cuda' if torch.cuda.is_available() else 'cpu'"
   ]
  },
  {
   "cell_type": "code",
   "execution_count": 3,
   "id": "9e05e85b-60c5-4f6b-a806-1dcda7763dc2",
   "metadata": {},
   "outputs": [
    {
     "name": "stdout",
     "output_type": "stream",
     "text": [
      "Downloading https://www.cs.toronto.edu/~kriz/cifar-100-python.tar.gz to ../../data/./cifar-100-python.tar.gz\n"
     ]
    },
    {
     "name": "stderr",
     "output_type": "stream",
     "text": [
      "100%|████████████████████████████████████████████████████████████████████████████████████████████████████████████████████████████████████████████████████████████████████████████████████| 169001437/169001437 [02:29<00:00, 1126859.19it/s]\n"
     ]
    },
    {
     "name": "stdout",
     "output_type": "stream",
     "text": [
      "Extracting ../../data/./cifar-100-python.tar.gz to ../../data/.\n"
     ]
    }
   ],
   "source": [
    "transforms = ToTensor()\n",
    "dataset = CIFAR100(root='../../data/.', download=True, transform=transforms)"
   ]
  },
  {
   "cell_type": "code",
   "execution_count": 4,
   "id": "60971aa0-1a42-43d8-bdf9-4ac79563b741",
   "metadata": {},
   "outputs": [],
   "source": [
    "dataloader = DataLoader(dataset, batch_size=32)"
   ]
  },
  {
   "cell_type": "code",
   "execution_count": 5,
   "id": "bc495eae-7426-44b1-939b-591f6f5da12e",
   "metadata": {},
   "outputs": [],
   "source": [
    "class Conv_AE(nn.Module):\n",
    "    def __init__(self):\n",
    "        super(Conv_AE, self).__init__()\n",
    "        # Input size: [batch, 3, 32, 32]\n",
    "        # Output size: [batch, 3, 32, 32]\n",
    "        self.encoder = nn.Sequential(\n",
    "            nn.Conv2d(3, 12, 4, stride=2, padding=1),            # [batch, 12, 16, 16]\n",
    "            nn.BatchNorm2d(12),\n",
    "            nn.ReLU(),\n",
    "            nn.Conv2d(12, 24, 4, stride=2, padding=1),           # [batch, 24, 8, 8]\n",
    "            nn.BatchNorm2d(24),\n",
    "            nn.ReLU(),\n",
    "\t\t\tnn.Conv2d(24, 48, 4, stride=2, padding=1),           # [batch, 48, 4, 4]\n",
    "            nn.BatchNorm2d(48),\n",
    "            nn.ReLU(),\n",
    "        )\n",
    "        self.decoder = nn.Sequential(\n",
    "\t\t\tnn.ConvTranspose2d(48, 24, 4, stride=2, padding=1),  # [batch, 24, 8, 8]\n",
    "            nn.BatchNorm2d(24),\n",
    "            nn.ReLU(),\n",
    "\t\t\tnn.ConvTranspose2d(24, 12, 4, stride=2, padding=1),  # [batch, 12, 16, 16]\n",
    "            nn.BatchNorm2d(12),\n",
    "            nn.ReLU(),\n",
    "            nn.ConvTranspose2d(12, 3, 4, stride=2, padding=1),   # [batch, 3, 32, 32]\n",
    "            nn.BatchNorm2d(3),\n",
    "            nn.Sigmoid(),\n",
    "        )\n",
    "\n",
    "    def forward(self, x):\n",
    "        encoded = self.encoder(x)\n",
    "        decoded = self.decoder(encoded)\n",
    "        return decoded"
   ]
  },
  {
   "cell_type": "code",
   "execution_count": 6,
   "id": "5c8e421c-db46-44f3-b09b-f10eee19862f",
   "metadata": {},
   "outputs": [],
   "source": [
    "def train(model, trainloader, epochs):\n",
    "    params = model.parameters()\n",
    "    optim = torch.optim.Adam(params, lr=1e-3)\n",
    "    criterion = nn.MSELoss()\n",
    "    for epochs in range(epochs):\n",
    "        train_loss = 0\n",
    "        for batch, (x,y) in enumerate(trainloader):\n",
    "            x = x.to(device)\n",
    "            y = y.to(device)\n",
    "            # 1. Forward pass\n",
    "            recon_batch = model(x)\n",
    "            \n",
    "            # 2. Calculate loss\n",
    "            loss = criterion(recon_batch, x)\n",
    "            \n",
    "            train_loss += loss.item()\n",
    "\n",
    "            # 3. Zero grad\n",
    "            optim.zero_grad()\n",
    "\n",
    "            # 4. Backprop\n",
    "            loss.backward()\n",
    "\n",
    "            # 5. Step\n",
    "            optim.step()\n",
    "        print('train_loss: ', train_loss / len(trainloader))\n",
    "        print(f'epoch {epochs} completed !')"
   ]
  },
  {
   "cell_type": "code",
   "execution_count": 7,
   "id": "45feb7c8-bb63-46e7-9687-b587a63b48dd",
   "metadata": {},
   "outputs": [],
   "source": [
    "ae = Conv_AE().to(device)"
   ]
  },
  {
   "cell_type": "code",
   "execution_count": 9,
   "id": "91d53f09-0253-41f5-9e61-33b9ee30ad45",
   "metadata": {},
   "outputs": [
    {
     "name": "stdout",
     "output_type": "stream",
     "text": [
      "train_loss:  0.0018441066125339887\n",
      "epoch 0 completed !\n",
      "train_loss:  0.0018312979536637501\n",
      "epoch 1 completed !\n",
      "train_loss:  0.0018225391614367032\n",
      "epoch 2 completed !\n",
      "train_loss:  0.0018145899151756368\n",
      "epoch 3 completed !\n",
      "train_loss:  0.0018071086862156084\n",
      "epoch 4 completed !\n",
      "train_loss:  0.0018002259937101308\n",
      "epoch 5 completed !\n",
      "train_loss:  0.00179380129680743\n",
      "epoch 6 completed !\n",
      "train_loss:  0.0017876435396418223\n",
      "epoch 7 completed !\n",
      "train_loss:  0.0017818501610928576\n",
      "epoch 8 completed !\n",
      "train_loss:  0.0017760589463941356\n",
      "epoch 9 completed !\n",
      "train_loss:  0.0017704129713168575\n",
      "epoch 10 completed !\n",
      "train_loss:  0.0017649347436425448\n",
      "epoch 11 completed !\n",
      "train_loss:  0.0017595358634002922\n",
      "epoch 12 completed !\n",
      "train_loss:  0.0017541234223744091\n",
      "epoch 13 completed !\n",
      "train_loss:  0.001748848337053261\n",
      "epoch 14 completed !\n",
      "train_loss:  0.00174332002159363\n",
      "epoch 15 completed !\n",
      "train_loss:  0.001738220830364552\n",
      "epoch 16 completed !\n",
      "train_loss:  0.001733093226646679\n",
      "epoch 17 completed !\n",
      "train_loss:  0.0017281601797450889\n",
      "epoch 18 completed !\n",
      "train_loss:  0.0017237330526792786\n",
      "epoch 19 completed !\n"
     ]
    }
   ],
   "source": [
    "train(ae, dataloader, 50)"
   ]
  },
  {
   "cell_type": "code",
   "execution_count": 47,
   "id": "6ad84f91-3ba6-44c8-ab96-b6a7d5fe2ff8",
   "metadata": {},
   "outputs": [],
   "source": [
    "import numpy as np\n",
    "import matplotlib.pyplot as plt\n",
    "\n",
    "def imshow(img):\n",
    "    img = img / 2 + 0.5     # unnormalize\n",
    "    npimg = img.numpy()\n",
    "    plt.imshow(np.transpose(npimg, (1, 2, 0)))\n",
    "    plt.show()\n",
    "\n",
    "batch = next(iter(dataloader))"
   ]
  },
  {
   "cell_type": "code",
   "execution_count": 48,
   "id": "9f088491-e191-498a-a07c-73155268cc27",
   "metadata": {},
   "outputs": [
    {
     "data": {
      "image/png": "[encoded data removed]",
      "text/plain": [
       "<Figure size 640x480 with 1 Axes>"
      ]
     },
     "metadata": {},
     "output_type": "display_data"
    }
   ],
   "source": [
    "imshow(torchvision.utils.make_grid(batch[0][16:20]))"
   ]
  },
  {
   "cell_type": "code",
   "execution_count": 49,
   "id": "d484d455-4561-4b3c-9efc-9d2bca77d5c5",
   "metadata": {},
   "outputs": [
    {
     "data": {
      "image/png": "[encoded data removed]",
      "text/plain": [
       "<Figure size 640x480 with 1 Axes>"
      ]
     },
     "metadata": {},
     "output_type": "display_data"
    }
   ],
   "source": [
    "reconstruction = ae(batch[0].cuda())\n",
    "imshow(torchvision.utils.make_grid(reconstruction[16:20].detach().cpu()))"
   ]
  },
  {
   "cell_type": "code",
   "execution_count": 50,
   "id": "a1db1ead-58a3-4d95-a43a-81664f7659eb",
   "metadata": {},
   "outputs": [],
   "source": [
    "torch.save(ae.state_dict(), 'pre-trained-ae-cifar100.pt')"
   ]
  },
  {
   "cell_type": "code",
   "execution_count": null,
   "id": "39823f12-4999-4059-82e3-f2ee9bd82324",
   "metadata": {},
   "outputs": [],
   "source": [
    "imshow(torchvision.utils.make_grid(batch[0][16:32]))"
   ]
  }
 ],
 "metadata": {
  "kernelspec": {
   "display_name": "Python 3 (ipykernel)",
   "language": "python",
   "name": "python3"
  },
  "language_info": {
   "codemirror_mode": {
    "name": "ipython",
    "version": 3
   },
   "file_extension": ".py",
   "mimetype": "text/x-python",
   "name": "python",
   "nbconvert_exporter": "python",
   "pygments_lexer": "ipython3",
   "version": "3.11.3"
  }
 },
 "nbformat": 4,
 "nbformat_minor": 5
}
