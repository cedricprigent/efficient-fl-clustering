{
 "cells": [
  {
   "cell_type": "code",
   "execution_count": 1,
   "id": "d5cea29c-66e3-4519-9d1f-604194f32196",
   "metadata": {},
   "outputs": [],
   "source": [
    "import torch\n",
    "import torch.nn as nn\n",
    "from torch.utils.data import DataLoader\n",
    "import torchvision\n",
    "from torchvision.datasets import FashionMNIST\n",
    "from torchvision.transforms import ToTensor"
   ]
  },
  {
   "cell_type": "code",
   "execution_count": 2,
   "id": "c328a7b7-f7fb-46b0-888f-edc4ae172f69",
   "metadata": {},
   "outputs": [],
   "source": [
    "batch_size = 32\n",
    "device = 'cuda' if torch.cuda.is_available() else 'cpu'"
   ]
  },
  {
   "cell_type": "code",
   "execution_count": 3,
   "id": "9e05e85b-60c5-4f6b-a806-1dcda7763dc2",
   "metadata": {},
   "outputs": [
    {
     "name": "stdout",
     "output_type": "stream",
     "text": [
      "Downloading http://fashion-mnist.s3-website.eu-central-1.amazonaws.com/train-images-idx3-ubyte.gz\n",
      "Downloading http://fashion-mnist.s3-website.eu-central-1.amazonaws.com/train-images-idx3-ubyte.gz to ../../../data/./FashionMNIST/raw/train-images-idx3-ubyte.gz\n"
     ]
    },
    {
     "name": "stderr",
     "output_type": "stream",
     "text": [
      "100%|██████████████████████████████████████████████████████████████████████████████████████████████████████████████████████████████████████████████████████████████████████████████████████| 26421880/26421880 [00:22<00:00, 1156375.36it/s]\n"
     ]
    },
    {
     "name": "stdout",
     "output_type": "stream",
     "text": [
      "Extracting ../../../data/./FashionMNIST/raw/train-images-idx3-ubyte.gz to ../../../data/./FashionMNIST/raw\n",
      "\n",
      "Downloading http://fashion-mnist.s3-website.eu-central-1.amazonaws.com/train-labels-idx1-ubyte.gz\n",
      "Downloading http://fashion-mnist.s3-website.eu-central-1.amazonaws.com/train-labels-idx1-ubyte.gz to ../../../data/./FashionMNIST/raw/train-labels-idx1-ubyte.gz\n"
     ]
    },
    {
     "name": "stderr",
     "output_type": "stream",
     "text": [
      "100%|█████████████████████████████████████████████████████████████████████████████████████████████████████████████████████████████████████████████████████████████████████████████████████████████| 29515/29515 [00:00<00:00, 983552.87it/s]"
     ]
    },
    {
     "name": "stdout",
     "output_type": "stream",
     "text": [
      "Extracting ../../../data/./FashionMNIST/raw/train-labels-idx1-ubyte.gz to ../../../data/./FashionMNIST/raw\n",
      "\n",
      "Downloading http://fashion-mnist.s3-website.eu-central-1.amazonaws.com/t10k-images-idx3-ubyte.gz\n"
     ]
    },
    {
     "name": "stderr",
     "output_type": "stream",
     "text": [
      "\n"
     ]
    },
    {
     "name": "stdout",
     "output_type": "stream",
     "text": [
      "Downloading http://fashion-mnist.s3-website.eu-central-1.amazonaws.com/t10k-images-idx3-ubyte.gz to ../../../data/./FashionMNIST/raw/t10k-images-idx3-ubyte.gz\n"
     ]
    },
    {
     "name": "stderr",
     "output_type": "stream",
     "text": [
      "100%|████████████████████████████████████████████████████████████████████████████████████████████████████████████████████████████████████████████████████████████████████████████████████████| 4422102/4422102 [00:03<00:00, 1169821.48it/s]\n"
     ]
    },
    {
     "name": "stdout",
     "output_type": "stream",
     "text": [
      "Extracting ../../../data/./FashionMNIST/raw/t10k-images-idx3-ubyte.gz to ../../../data/./FashionMNIST/raw\n",
      "\n",
      "Downloading http://fashion-mnist.s3-website.eu-central-1.amazonaws.com/t10k-labels-idx1-ubyte.gz\n",
      "Downloading http://fashion-mnist.s3-website.eu-central-1.amazonaws.com/t10k-labels-idx1-ubyte.gz to ../../../data/./FashionMNIST/raw/t10k-labels-idx1-ubyte.gz\n"
     ]
    },
    {
     "name": "stderr",
     "output_type": "stream",
     "text": [
      "100%|██████████████████████████████████████████████████████████████████████████████████████████████████████████████████████████████████████████████████████████████████████████████████████████████| 5148/5148 [00:00<00:00, 6378811.52it/s]\n"
     ]
    },
    {
     "name": "stdout",
     "output_type": "stream",
     "text": [
      "Extracting ../../../data/./FashionMNIST/raw/t10k-labels-idx1-ubyte.gz to ../../../data/./FashionMNIST/raw\n",
      "\n"
     ]
    }
   ],
   "source": [
    "transforms = ToTensor()\n",
    "dataset = FashionMNIST(root='../../data/.', download=True, transform=transforms)"
   ]
  },
  {
   "cell_type": "code",
   "execution_count": 13,
   "id": "60971aa0-1a42-43d8-bdf9-4ac79563b741",
   "metadata": {},
   "outputs": [],
   "source": [
    "dataloader = DataLoader(dataset, batch_size=32)"
   ]
  },
  {
   "cell_type": "code",
   "execution_count": 5,
   "id": "bc495eae-7426-44b1-939b-591f6f5da12e",
   "metadata": {},
   "outputs": [],
   "source": [
    "class AutoEncoder(torch.nn.Module):\n",
    "    def __init__(self, n_channels, im_size, z_dim, hidden_dim):\n",
    "        super().__init__()\n",
    "        self.n_channels = n_channels\n",
    "        self.im_size = im_size\n",
    "        \n",
    "        self.encoder = torch.nn.Sequential(\n",
    "            torch.nn.Flatten(),\n",
    "            torch.nn.Linear(n_channels * im_size * im_size, hidden_dim),\n",
    "            torch.nn.ReLU(),\n",
    "            torch.nn.Linear(hidden_dim, z_dim)\n",
    "        )\n",
    "\n",
    "        self.decoder = torch.nn.Sequential(\n",
    "            torch.nn.Linear(z_dim, hidden_dim),\n",
    "            torch.nn.ReLU(),\n",
    "            torch.nn.Linear(hidden_dim, n_channels * im_size * im_size),\n",
    "            torch.nn.Sigmoid()\n",
    "        )\n",
    "    def forward(self, x):\n",
    "        encoded = self.encoder(x)\n",
    "        decoded = torch.reshape(self.decoder(encoded), (-1, self.n_channels, self.im_size, self.im_size))\n",
    "        return decoded"
   ]
  },
  {
   "cell_type": "code",
   "execution_count": 6,
   "id": "5c8e421c-db46-44f3-b09b-f10eee19862f",
   "metadata": {},
   "outputs": [],
   "source": [
    "def train(model, trainloader, epochs):\n",
    "    params = model.parameters()\n",
    "    optim = torch.optim.Adam(params, lr=1e-3)\n",
    "    criterion = nn.MSELoss()\n",
    "    for epochs in range(epochs):\n",
    "        train_loss = 0\n",
    "        for batch, (x,y) in enumerate(trainloader):\n",
    "            x = x.to(device)\n",
    "            y = y.to(device)\n",
    "            # 1. Forward pass\n",
    "            recon_batch = model(x)\n",
    "            \n",
    "            # 2. Calculate loss\n",
    "            loss = criterion(recon_batch, x)\n",
    "            \n",
    "            train_loss += loss.item()\n",
    "\n",
    "            # 3. Zero grad\n",
    "            optim.zero_grad()\n",
    "\n",
    "            # 4. Backprop\n",
    "            loss.backward()\n",
    "\n",
    "            # 5. Step\n",
    "            optim.step()\n",
    "        print('train_loss: ', train_loss / len(trainloader))\n",
    "        print(f'epoch {epochs} completed !')"
   ]
  },
  {
   "cell_type": "code",
   "execution_count": 7,
   "id": "45feb7c8-bb63-46e7-9687-b587a63b48dd",
   "metadata": {},
   "outputs": [],
   "source": [
    "ae = AutoEncoder(n_channels=1, im_size=28, z_dim=20, hidden_dim=50).to(device)"
   ]
  },
  {
   "cell_type": "code",
   "execution_count": 8,
   "id": "91d53f09-0253-41f5-9e61-33b9ee30ad45",
   "metadata": {},
   "outputs": [
    {
     "name": "stdout",
     "output_type": "stream",
     "text": [
      "train_loss:  0.030193813449144364\n",
      "epoch 0 completed !\n",
      "train_loss:  0.019129527576764425\n",
      "epoch 1 completed !\n",
      "train_loss:  0.017265912992258867\n",
      "epoch 2 completed !\n",
      "train_loss:  0.016173522328337034\n",
      "epoch 3 completed !\n",
      "train_loss:  0.015454950706660748\n",
      "epoch 4 completed !\n",
      "train_loss:  0.014937173479795457\n",
      "epoch 5 completed !\n",
      "train_loss:  0.01453219753106435\n",
      "epoch 6 completed !\n",
      "train_loss:  0.014230274367332459\n",
      "epoch 7 completed !\n",
      "train_loss:  0.01398107780913512\n",
      "epoch 8 completed !\n",
      "train_loss:  0.013765589753786722\n",
      "epoch 9 completed !\n",
      "train_loss:  0.013590664586921533\n",
      "epoch 10 completed !\n",
      "train_loss:  0.013450545622905095\n",
      "epoch 11 completed !\n",
      "train_loss:  0.013329364257554214\n",
      "epoch 12 completed !\n",
      "train_loss:  0.013226636682450771\n",
      "epoch 13 completed !\n",
      "train_loss:  0.013135405662159125\n",
      "epoch 14 completed !\n",
      "train_loss:  0.01305345943570137\n",
      "epoch 15 completed !\n",
      "train_loss:  0.012977868307630222\n",
      "epoch 16 completed !\n",
      "train_loss:  0.012916798008978367\n",
      "epoch 17 completed !\n",
      "train_loss:  0.01286499730994304\n",
      "epoch 18 completed !\n",
      "train_loss:  0.012811315588653088\n",
      "epoch 19 completed !\n"
     ]
    }
   ],
   "source": [
    "train(ae, dataloader, 20)"
   ]
  },
  {
   "cell_type": "code",
   "execution_count": 9,
   "id": "6ad84f91-3ba6-44c8-ab96-b6a7d5fe2ff8",
   "metadata": {},
   "outputs": [],
   "source": [
    "import numpy as np\n",
    "import matplotlib.pyplot as plt\n",
    "\n",
    "def imshow(img):\n",
    "    img = img / 2 + 0.5     # unnormalize\n",
    "    npimg = img.numpy()\n",
    "    plt.imshow(np.transpose(npimg, (1, 2, 0)))\n",
    "    plt.show()\n",
    "\n",
    "batch = next(iter(dataloader))"
   ]
  },
  {
   "cell_type": "code",
   "execution_count": 10,
   "id": "9f088491-e191-498a-a07c-73155268cc27",
   "metadata": {},
   "outputs": [
    {
     "data": {
      "image/png": "[encoded data removed]",
      "text/plain": [
       "<Figure size 640x480 with 1 Axes>"
      ]
     },
     "metadata": {},
     "output_type": "display_data"
    }
   ],
   "source": [
    "imshow(torchvision.utils.make_grid(batch[0][16:20]))"
   ]
  },
  {
   "cell_type": "code",
   "execution_count": 11,
   "id": "d484d455-4561-4b3c-9efc-9d2bca77d5c5",
   "metadata": {},
   "outputs": [
    {
     "data": {
      "image/png": "[encoded data removed]",
      "text/plain": [
       "<Figure size 640x480 with 1 Axes>"
      ]
     },
     "metadata": {},
     "output_type": "display_data"
    }
   ],
   "source": [
    "reconstruction = ae(batch[0].cuda())\n",
    "imshow(torchvision.utils.make_grid(reconstruction[16:20].detach().cpu()))"
   ]
  },
  {
   "cell_type": "code",
   "execution_count": 12,
   "id": "a1db1ead-58a3-4d95-a43a-81664f7659eb",
   "metadata": {},
   "outputs": [],
   "source": [
    "torch.save(ae.state_dict(), 'pre-trained-ae-fashion-mnist.pt')"
   ]
  },
  {
   "cell_type": "code",
   "execution_count": null,
   "id": "39823f12-4999-4059-82e3-f2ee9bd82324",
   "metadata": {},
   "outputs": [],
   "source": [
    "imshow(torchvision.utils.make_grid(batch[0][16:32]))"
   ]
  },
  {
   "cell_type": "code",
   "execution_count": null,
   "id": "9d7d1819-1bf6-48f5-9c07-74e30035e1bb",
   "metadata": {},
   "outputs": [],
   "source": []
  }
 ],
 "metadata": {
  "kernelspec": {
   "display_name": "Python 3 (ipykernel)",
   "language": "python",
   "name": "python3"
  },
  "language_info": {
   "codemirror_mode": {
    "name": "ipython",
    "version": 3
   },
   "file_extension": ".py",
   "mimetype": "text/x-python",
   "name": "python",
   "nbconvert_exporter": "python",
   "pygments_lexer": "ipython3",
   "version": "3.11.3"
  }
 },
 "nbformat": 4,
 "nbformat_minor": 5
}
